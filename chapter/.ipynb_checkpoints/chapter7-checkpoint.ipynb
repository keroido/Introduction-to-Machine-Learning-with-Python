{
 "cells": [
  {
   "cell_type": "code",
   "execution_count": 1,
   "metadata": {},
   "outputs": [
    {
     "name": "stderr",
     "output_type": "stream",
     "text": [
      "/Users/okuharasho/.pyenv/versions/3.6.5/lib/python3.6/site-packages/sklearn/externals/six.py:31: DeprecationWarning: The module is deprecated in version 0.21 and will be removed in version 0.23 since we've dropped support for Python 2.7. Please rely on the official version of six (https://pypi.org/project/six/).\n",
      "  \"(https://pypi.org/project/six/).\", DeprecationWarning)\n",
      "/Users/okuharasho/.pyenv/versions/3.6.5/lib/python3.6/site-packages/sklearn/externals/joblib/__init__.py:15: DeprecationWarning: sklearn.externals.joblib is deprecated in 0.21 and will be removed in 0.23. Please import this functionality directly from joblib, which can be installed with: pip install joblib. If this warning is raised when loading pickled models, you may need to re-serialize those models with scikit-learn 0.21+.\n",
      "  warnings.warn(msg, category=DeprecationWarning)\n"
     ]
    }
   ],
   "source": [
    "import numpy as np\n",
    "import pandas as pd\n",
    "import matplotlib.pyplot as plt\n",
    "import sklearn\n",
    "import seaborn as sns\n",
    "import mglearn\n",
    "%matplotlib inline\n",
    "from sklearn.model_selection import train_test_split\n",
    "import os"
   ]
  },
  {
   "cell_type": "markdown",
   "metadata": {},
   "source": [
    "# テキストデータの処理\n",
    "\n",
    "\n",
    "\n",
    "## 文字列として表現されているデータのタイプ\n",
    "\n",
    "テキストデータを機械学習向けの表現に処理するステップに進む前に、よくあるテキストデータの種類について簡単に説明しよう。テキストは、データセット上は単なる文字列として表現される。しかし全ての文字列特徴量がテキストデータとして扱うべきものではない。文字列特徴量は、カテゴリ変数を表す場合もある。データの中身を見ないと文字列特徴量をどう扱うべきかわからない。文字列データには次の４つの種類がある。<br><br>\n",
    "・カテゴリデータ<br>\n",
    "・意味的にはカテゴリに分類できる自由に書かれた文字列<br>\n",
    "・構造化された文字列<br>\n",
    "・テキストデータ<br>\n",
    "<br><br>\n",
    "カテゴリデータは固定されたリストから得られるデータである。例として、好みの色を調査することを考えてみよう。ドロップダウンメニューから「red」「green」「blue」「yellow」「black」「white」「purple」「pink」のいずれかを選択するようになっていれば結果のデータセットにはちょうど８つの値だけが含まれるようになり、明らかにカテゴリ変数をエンコードしていることになる。このようになっているかを目視で確認し（あまりにも多種の文字列が含まれているのならば、カテゴリ変数ではない可能性が高い。）、計算機でデータセットから重複を取り除いたり、出現頻度のヒストグラムを描くなどして確認する必要がある。さらに、個々の変数が、アプリケーションにとって意味のあるカテゴリに対応しているかを確認する必要がある。\n",
    "\n",
    "<br><br><br>\n",
    "\n",
    "## 例題アプリケーション：映画レビューのセンチメント分析\n",
    "\n"
   ]
  },
  {
   "cell_type": "code",
   "execution_count": 2,
   "metadata": {},
   "outputs": [
    {
     "name": "stdout",
     "output_type": "stream",
     "text": [
      "--2019-10-21 23:28:03--  http://ai.stanford.edu/~amaas/data/sentiment/aclImdb_v1.tar.gz\n",
      "Resolving ai.stanford.edu (ai.stanford.edu)... 171.64.68.10\n",
      "Connecting to ai.stanford.edu (ai.stanford.edu)|171.64.68.10|:80... connected.\n",
      "HTTP request sent, awaiting response... 200 OK\n",
      "Length: 84125825 (80M) [application/x-gzip]\n",
      "Saving to: `data/aclImdb_v1.tar.gz'\n",
      "\n",
      "aclImdb_v1.tar.gz   100%[===================>]  80.23M   245KB/s    in 6m 33s  \n",
      "\n",
      "2019-10-21 23:34:37 (209 KB/s) - `data/aclImdb_v1.tar.gz' saved [84125825/84125825]\n",
      "\n"
     ]
    }
   ],
   "source": [
    "! wget -nc http://ai.stanford.edu/~amaas/data/sentiment/aclImdb_v1.tar.gz -P data"
   ]
  },
  {
   "cell_type": "code",
   "execution_count": 2,
   "metadata": {},
   "outputs": [],
   "source": [
    "! tar xzf data/aclImdb_v1.tar.gz -C data"
   ]
  },
  {
   "cell_type": "code",
   "execution_count": null,
   "metadata": {},
   "outputs": [
    {
     "name": "stdout",
     "output_type": "stream",
     "text": [
      "Password:"
     ]
    }
   ],
   "source": [
    "!sudo tree -dL 2 data/aclImdb"
   ]
  },
  {
   "cell_type": "code",
   "execution_count": null,
   "metadata": {},
   "outputs": [],
   "source": []
  }
 ],
 "metadata": {
  "kernelspec": {
   "display_name": "Python 3",
   "language": "python",
   "name": "python3"
  },
  "language_info": {
   "codemirror_mode": {
    "name": "ipython",
    "version": 3
   },
   "file_extension": ".py",
   "mimetype": "text/x-python",
   "name": "python",
   "nbconvert_exporter": "python",
   "pygments_lexer": "ipython3",
   "version": "3.6.5"
  }
 },
 "nbformat": 4,
 "nbformat_minor": 2
}
